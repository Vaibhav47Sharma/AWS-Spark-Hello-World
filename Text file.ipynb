{
 "cells": [
  {
   "cell_type": "code",
   "execution_count": 1,
   "metadata": {},
   "outputs": [
    {
     "data": {
      "text/html": [
       "<div>\n",
       "<style scoped>\n",
       "    .dataframe tbody tr th:only-of-type {\n",
       "        vertical-align: middle;\n",
       "    }\n",
       "\n",
       "    .dataframe tbody tr th {\n",
       "        vertical-align: top;\n",
       "    }\n",
       "\n",
       "    .dataframe thead th {\n",
       "        text-align: right;\n",
       "    }\n",
       "</style>\n",
       "<table border=\"1\" class=\"dataframe\">\n",
       "  <thead>\n",
       "    <tr style=\"text-align: right;\">\n",
       "      <th></th>\n",
       "      <th>productid</th>\n",
       "      <th>userid</th>\n",
       "      <th>username</th>\n",
       "      <th>time</th>\n",
       "      <th>year</th>\n",
       "      <th>month</th>\n",
       "      <th>helpful_upvotes</th>\n",
       "      <th>helpful_responses</th>\n",
       "      <th>helpfulness_score</th>\n",
       "      <th>rating</th>\n",
       "      <th>sentiment</th>\n",
       "      <th>text_ext</th>\n",
       "      <th>summary</th>\n",
       "      <th>text</th>\n",
       "    </tr>\n",
       "  </thead>\n",
       "  <tbody>\n",
       "    <tr>\n",
       "      <th>95</th>\n",
       "      <td>B004K2IHUO</td>\n",
       "      <td>AL3E5V6MXO9B0</td>\n",
       "      <td>pionex1796</td>\n",
       "      <td>2012-01-13</td>\n",
       "      <td>2012</td>\n",
       "      <td>1</td>\n",
       "      <td>0.0</td>\n",
       "      <td>0.0</td>\n",
       "      <td>-1.0</td>\n",
       "      <td>5.0</td>\n",
       "      <td>1</td>\n",
       "      <td>Loved these Tartlets What a nice alternative t...</td>\n",
       "      <td>Loved these Tartlets</td>\n",
       "      <td>What a nice alternative to an apple pie. Love ...</td>\n",
       "    </tr>\n",
       "    <tr>\n",
       "      <th>96</th>\n",
       "      <td>B004K2IHUO</td>\n",
       "      <td>A2O9G2521O626G</td>\n",
       "      <td>Rachel Westendorf</td>\n",
       "      <td>2011-06-22</td>\n",
       "      <td>2011</td>\n",
       "      <td>6</td>\n",
       "      <td>0.0</td>\n",
       "      <td>0.0</td>\n",
       "      <td>-1.0</td>\n",
       "      <td>5.0</td>\n",
       "      <td>1</td>\n",
       "      <td>The best I like Creme Brulee. I loved that the...</td>\n",
       "      <td>The best</td>\n",
       "      <td>I like Creme Brulee. I loved that these were s...</td>\n",
       "    </tr>\n",
       "    <tr>\n",
       "      <th>97</th>\n",
       "      <td>B001REEG6C</td>\n",
       "      <td>A30835UIR6F8KB</td>\n",
       "      <td>Adam E. Smith</td>\n",
       "      <td>2011-01-18</td>\n",
       "      <td>2011</td>\n",
       "      <td>1</td>\n",
       "      <td>2.0</td>\n",
       "      <td>2.0</td>\n",
       "      <td>1.0</td>\n",
       "      <td>5.0</td>\n",
       "      <td>1</td>\n",
       "      <td>Wasting Vinegar on a Cucumber is a Shame! I fi...</td>\n",
       "      <td>Wasting Vinegar on a Cucumber is a Shame!</td>\n",
       "      <td>I first bought pickled asparagus at an Amish m...</td>\n",
       "    </tr>\n",
       "    <tr>\n",
       "      <th>98</th>\n",
       "      <td>B001REEG6C</td>\n",
       "      <td>A10EHUTGNC4BGP</td>\n",
       "      <td>M. Foell</td>\n",
       "      <td>2009-05-31</td>\n",
       "      <td>2009</td>\n",
       "      <td>5</td>\n",
       "      <td>1.0</td>\n",
       "      <td>1.0</td>\n",
       "      <td>1.0</td>\n",
       "      <td>5.0</td>\n",
       "      <td>1</td>\n",
       "      <td>Asparagus Bliss I love asparagus.  Up until ve...</td>\n",
       "      <td>Asparagus Bliss</td>\n",
       "      <td>I love asparagus.  Up until very recently, I h...</td>\n",
       "    </tr>\n",
       "    <tr>\n",
       "      <th>99</th>\n",
       "      <td>B001REEG6C</td>\n",
       "      <td>AY12DBB0U420B</td>\n",
       "      <td>Gary Peterson</td>\n",
       "      <td>2011-09-19</td>\n",
       "      <td>2011</td>\n",
       "      <td>9</td>\n",
       "      <td>0.0</td>\n",
       "      <td>0.0</td>\n",
       "      <td>-1.0</td>\n",
       "      <td>5.0</td>\n",
       "      <td>1</td>\n",
       "      <td>My Idea of a Good Diet Food. I'm presently on ...</td>\n",
       "      <td>My Idea of a Good Diet Food.</td>\n",
       "      <td>I'm presently on a diet and I was at my Fresh ...</td>\n",
       "    </tr>\n",
       "  </tbody>\n",
       "</table>\n",
       "</div>"
      ],
      "text/plain": [
       "     productid          userid           username        time  year  month  \\\n",
       "95  B004K2IHUO   AL3E5V6MXO9B0         pionex1796  2012-01-13  2012      1   \n",
       "96  B004K2IHUO  A2O9G2521O626G  Rachel Westendorf  2011-06-22  2011      6   \n",
       "97  B001REEG6C  A30835UIR6F8KB      Adam E. Smith  2011-01-18  2011      1   \n",
       "98  B001REEG6C  A10EHUTGNC4BGP           M. Foell  2009-05-31  2009      5   \n",
       "99  B001REEG6C   AY12DBB0U420B      Gary Peterson  2011-09-19  2011      9   \n",
       "\n",
       "    helpful_upvotes  helpful_responses  helpfulness_score  rating  sentiment  \\\n",
       "95              0.0                0.0               -1.0     5.0          1   \n",
       "96              0.0                0.0               -1.0     5.0          1   \n",
       "97              2.0                2.0                1.0     5.0          1   \n",
       "98              1.0                1.0                1.0     5.0          1   \n",
       "99              0.0                0.0               -1.0     5.0          1   \n",
       "\n",
       "                                             text_ext  \\\n",
       "95  Loved these Tartlets What a nice alternative t...   \n",
       "96  The best I like Creme Brulee. I loved that the...   \n",
       "97  Wasting Vinegar on a Cucumber is a Shame! I fi...   \n",
       "98  Asparagus Bliss I love asparagus.  Up until ve...   \n",
       "99  My Idea of a Good Diet Food. I'm presently on ...   \n",
       "\n",
       "                                      summary  \\\n",
       "95                       Loved these Tartlets   \n",
       "96                                   The best   \n",
       "97  Wasting Vinegar on a Cucumber is a Shame!   \n",
       "98                            Asparagus Bliss   \n",
       "99               My Idea of a Good Diet Food.   \n",
       "\n",
       "                                                 text  \n",
       "95  What a nice alternative to an apple pie. Love ...  \n",
       "96  I like Creme Brulee. I loved that these were s...  \n",
       "97  I first bought pickled asparagus at an Amish m...  \n",
       "98  I love asparagus.  Up until very recently, I h...  \n",
       "99  I'm presently on a diet and I was at my Fresh ...  "
      ]
     },
     "execution_count": 1,
     "metadata": {},
     "output_type": "execute_result"
    }
   ],
   "source": [
    "import pandas as pd\n",
    "\n",
    "food_reviews = pd.read_csv('processd_food_reviews.txt', sep = '\\t')\n",
    "\n",
    "food_reviews = food_reviews.iloc[ : , 1 : len(food_reviews.columns)]\n",
    "food_reviews.tail()"
   ]
  },
  {
   "cell_type": "code",
   "execution_count": 2,
   "metadata": {},
   "outputs": [],
   "source": [
    "food_reviews = food_reviews[0:100]"
   ]
  },
  {
   "cell_type": "code",
   "execution_count": 3,
   "metadata": {},
   "outputs": [
    {
     "data": {
      "text/plain": [
       "(100, 14)"
      ]
     },
     "execution_count": 3,
     "metadata": {},
     "output_type": "execute_result"
    }
   ],
   "source": [
    "food_reviews.shape"
   ]
  },
  {
   "cell_type": "code",
   "execution_count": 6,
   "metadata": {},
   "outputs": [],
   "source": [
    "my_list = list(food_reviews['text_ext'])"
   ]
  },
  {
   "cell_type": "code",
   "execution_count": 7,
   "metadata": {},
   "outputs": [],
   "source": [
    "with open('processd_food_reviews.txt', 'w') as f:\n",
    "    for item in my_list:\n",
    "        f.write(\"%s\\n\" % item)"
   ]
  }
 ],
 "metadata": {
  "kernelspec": {
   "display_name": "Python 3",
   "language": "python",
   "name": "python3"
  },
  "language_info": {
   "codemirror_mode": {
    "name": "ipython",
    "version": 3
   },
   "file_extension": ".py",
   "mimetype": "text/x-python",
   "name": "python",
   "nbconvert_exporter": "python",
   "pygments_lexer": "ipython3",
   "version": "3.6.5"
  }
 },
 "nbformat": 4,
 "nbformat_minor": 2
}
